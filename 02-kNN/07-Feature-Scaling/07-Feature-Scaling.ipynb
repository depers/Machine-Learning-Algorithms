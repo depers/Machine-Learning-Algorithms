{
 "cells": [
  {
   "cell_type": "markdown",
   "metadata": {},
   "source": [
    "## 07 数据归一化处理\n",
    "> 使用数据归一化处理的原因是如果我们采用欧拉距离来计算数据之间的距离，我们就会发现样本数据（是由肿瘤大小(x)和发现时间(y)组成）间的距离会被时间天数所主导，肿瘤的的大小变化相对与天数来说变化幅度较小，而天数的变化较大。如果不采用数据归一化处理的话，直接计算出样本之间的距离可能是有偏差的，不能够很好的同时反映样本中每一个特征的重要程度。\n",
    "\n",
    "所谓数据归一化处理就是：将所有的数据映射到同一尺度。"
   ]
  },
  {
   "cell_type": "code",
   "execution_count": 2,
   "metadata": {},
   "outputs": [],
   "source": [
    "import numpy as np\n",
    "import matplotlib.pyplot as plt"
   ]
  },
  {
   "cell_type": "markdown",
   "metadata": {},
   "source": [
    "### 最值归一化 Normalization\n",
    "> **概念：**就是将所有数据映射到0-1之间  \n",
    "> **适用范围：** 适用于分布有明显边界的情况；受outlier影响较大。  \n",
    "> Xscale = (X-Xmin)/(Xmax-Xmin)"
   ]
  },
  {
   "cell_type": "code",
   "execution_count": 3,
   "metadata": {},
   "outputs": [],
   "source": [
    "x = np.random.randint(0, 100, 100)"
   ]
  },
  {
   "cell_type": "code",
   "execution_count": 4,
   "metadata": {},
   "outputs": [
    {
     "data": {
      "text/plain": [
       "array([41, 60,  2, 19, 49, 15, 19, 29,  7, 48, 16, 26, 86, 81, 84, 73, 36,\n",
       "       23, 62, 92, 65, 83, 10,  2, 87, 53, 67, 21, 99, 19, 68, 30, 74, 90,\n",
       "       24, 92, 74, 28, 38,  8, 43, 21, 99, 31, 74, 32, 43, 99,  2, 85,  5,\n",
       "       83, 39,  8, 31, 90, 26,  7, 34, 50, 60, 51, 19,  0, 19, 38,  2,  3,\n",
       "       71, 82, 86, 87, 88, 68, 85, 92, 24, 32,  3, 87, 39,  6, 48, 62, 70,\n",
       "        0, 27, 89, 62, 88, 82, 35, 10, 46, 60, 19, 43, 35,  1, 29])"
      ]
     },
     "execution_count": 4,
     "metadata": {},
     "output_type": "execute_result"
    }
   ],
   "source": [
    "x"
   ]
  },
  {
   "cell_type": "code",
   "execution_count": 5,
   "metadata": {},
   "outputs": [
    {
     "data": {
      "text/plain": [
       "array([0.41414141, 0.60606061, 0.02020202, 0.19191919, 0.49494949,\n",
       "       0.15151515, 0.19191919, 0.29292929, 0.07070707, 0.48484848,\n",
       "       0.16161616, 0.26262626, 0.86868687, 0.81818182, 0.84848485,\n",
       "       0.73737374, 0.36363636, 0.23232323, 0.62626263, 0.92929293,\n",
       "       0.65656566, 0.83838384, 0.1010101 , 0.02020202, 0.87878788,\n",
       "       0.53535354, 0.67676768, 0.21212121, 1.        , 0.19191919,\n",
       "       0.68686869, 0.3030303 , 0.74747475, 0.90909091, 0.24242424,\n",
       "       0.92929293, 0.74747475, 0.28282828, 0.38383838, 0.08080808,\n",
       "       0.43434343, 0.21212121, 1.        , 0.31313131, 0.74747475,\n",
       "       0.32323232, 0.43434343, 1.        , 0.02020202, 0.85858586,\n",
       "       0.05050505, 0.83838384, 0.39393939, 0.08080808, 0.31313131,\n",
       "       0.90909091, 0.26262626, 0.07070707, 0.34343434, 0.50505051,\n",
       "       0.60606061, 0.51515152, 0.19191919, 0.        , 0.19191919,\n",
       "       0.38383838, 0.02020202, 0.03030303, 0.71717172, 0.82828283,\n",
       "       0.86868687, 0.87878788, 0.88888889, 0.68686869, 0.85858586,\n",
       "       0.92929293, 0.24242424, 0.32323232, 0.03030303, 0.87878788,\n",
       "       0.39393939, 0.06060606, 0.48484848, 0.62626263, 0.70707071,\n",
       "       0.        , 0.27272727, 0.8989899 , 0.62626263, 0.88888889,\n",
       "       0.82828283, 0.35353535, 0.1010101 , 0.46464646, 0.60606061,\n",
       "       0.19191919, 0.43434343, 0.35353535, 0.01010101, 0.29292929])"
      ]
     },
     "execution_count": 5,
     "metadata": {},
     "output_type": "execute_result"
    }
   ],
   "source": [
    "(x - np.min(x)) / (np.max(x) - np.min(x))"
   ]
  },
  {
   "cell_type": "code",
   "execution_count": 26,
   "metadata": {},
   "outputs": [],
   "source": [
    "X = np.random.randint(0, 100, (50, 2))"
   ]
  },
  {
   "cell_type": "code",
   "execution_count": 27,
   "metadata": {},
   "outputs": [
    {
     "data": {
      "text/plain": [
       "array([[46, 40],\n",
       "       [54, 62],\n",
       "       [79,  5],\n",
       "       [53, 95],\n",
       "       [64, 14],\n",
       "       [65, 91],\n",
       "       [25, 53],\n",
       "       [96, 32],\n",
       "       [67, 27],\n",
       "       [86, 80]])"
      ]
     },
     "execution_count": 27,
     "metadata": {},
     "output_type": "execute_result"
    }
   ],
   "source": [
    "X[:10,:]"
   ]
  },
  {
   "cell_type": "code",
   "execution_count": 28,
   "metadata": {},
   "outputs": [],
   "source": [
    "X = np.array(X, dtype=float)"
   ]
  },
  {
   "cell_type": "code",
   "execution_count": 29,
   "metadata": {},
   "outputs": [
    {
     "data": {
      "text/plain": [
       "array([[46., 40.],\n",
       "       [54., 62.],\n",
       "       [79.,  5.],\n",
       "       [53., 95.],\n",
       "       [64., 14.],\n",
       "       [65., 91.],\n",
       "       [25., 53.],\n",
       "       [96., 32.],\n",
       "       [67., 27.],\n",
       "       [86., 80.]])"
      ]
     },
     "execution_count": 29,
     "metadata": {},
     "output_type": "execute_result"
    }
   ],
   "source": [
    "X[:10,:]"
   ]
  },
  {
   "cell_type": "code",
   "execution_count": 30,
   "metadata": {},
   "outputs": [],
   "source": [
    "X[:,0] = (X[:,0] - np.min(X[:,0])) / (np.max(X[:,0]) - np.min(X[:,0]))\n",
    "X[:,1] = (X[:,1] - np.min(X[:,1])) / (np.max(X[:,1]) - np.min(X[:,1]))"
   ]
  },
  {
   "cell_type": "code",
   "execution_count": 31,
   "metadata": {},
   "outputs": [
    {
     "data": {
      "text/plain": [
       "array([[0.46464646, 0.40816327],\n",
       "       [0.54545455, 0.63265306],\n",
       "       [0.7979798 , 0.05102041],\n",
       "       [0.53535354, 0.96938776],\n",
       "       [0.64646465, 0.14285714],\n",
       "       [0.65656566, 0.92857143],\n",
       "       [0.25252525, 0.54081633],\n",
       "       [0.96969697, 0.32653061],\n",
       "       [0.67676768, 0.2755102 ],\n",
       "       [0.86868687, 0.81632653]])"
      ]
     },
     "execution_count": 31,
     "metadata": {},
     "output_type": "execute_result"
    }
   ],
   "source": [
    "X[:10,:]"
   ]
  },
  {
   "cell_type": "code",
   "execution_count": 11,
   "metadata": {},
   "outputs": [
    {
     "data": {
      "image/png": "[encoded data removed]",
      "text/plain": [
       "<matplotlib.figure.Figure at 0x1d90d1da668>"
      ]
     },
     "metadata": {},
     "output_type": "display_data"
    }
   ],
   "source": [
    "plt.scatter(X[:,0], X[:,1])\n",
    "plt.show()"
   ]
  },
  {
   "cell_type": "code",
   "execution_count": 32,
   "metadata": {},
   "outputs": [
    {
     "data": {
      "text/plain": [
       "0.5769696969696969"
      ]
     },
     "execution_count": 32,
     "metadata": {},
     "output_type": "execute_result"
    }
   ],
   "source": [
    "np.mean(X[:,0]) # 均值"
   ]
  },
  {
   "cell_type": "code",
   "execution_count": 34,
   "metadata": {},
   "outputs": [
    {
     "data": {
      "text/plain": [
       "0.29956701059589913"
      ]
     },
     "execution_count": 34,
     "metadata": {},
     "output_type": "execute_result"
    }
   ],
   "source": [
    "np.std(X[:,0]) # 方差"
   ]
  },
  {
   "cell_type": "code",
   "execution_count": 35,
   "metadata": {},
   "outputs": [
    {
     "data": {
      "text/plain": [
       "0.5773469387755102"
      ]
     },
     "execution_count": 35,
     "metadata": {},
     "output_type": "execute_result"
    }
   ],
   "source": [
    "np.mean(X[:,1])"
   ]
  },
  {
   "cell_type": "code",
   "execution_count": 36,
   "metadata": {},
   "outputs": [
    {
     "data": {
      "text/plain": [
       "0.2965376349295527"
      ]
     },
     "execution_count": 36,
     "metadata": {},
     "output_type": "execute_result"
    }
   ],
   "source": [
    "np.std(X[:,1])"
   ]
  },
  {
   "cell_type": "markdown",
   "metadata": {},
   "source": [
    "### 均值方差归一化 Standardization\n",
    "> **概念：**把所有数据归一到均值为0方差为1的分布中  \n",
    "> **适用范围：**数据分布没有明显的边界；有可能存在极端数据值  \n",
    "> Xscale = (X-Xmean)/S"
   ]
  },
  {
   "cell_type": "code",
   "execution_count": 38,
   "metadata": {},
   "outputs": [],
   "source": [
    "X2 = np.random.randint(0, 100, (50, 2))"
   ]
  },
  {
   "cell_type": "code",
   "execution_count": 39,
   "metadata": {},
   "outputs": [],
   "source": [
    "X2 = np.array(X2, dtype=float)"
   ]
  },
  {
   "cell_type": "code",
   "execution_count": 40,
   "metadata": {},
   "outputs": [
    {
     "data": {
      "text/plain": [
       "array([[28., 89.],\n",
       "       [77., 46.],\n",
       "       [79., 63.],\n",
       "       [29.,  9.],\n",
       "       [71., 38.],\n",
       "       [39., 62.],\n",
       "       [43., 82.],\n",
       "       [36., 51.],\n",
       "       [32., 61.],\n",
       "       [44., 48.]])"
      ]
     },
     "execution_count": 40,
     "metadata": {},
     "output_type": "execute_result"
    }
   ],
   "source": [
    "X2[:10,:]"
   ]
  },
  {
   "cell_type": "code",
   "execution_count": 41,
   "metadata": {},
   "outputs": [],
   "source": [
    "X2[:,0] = (X2[:,0] - np.mean(X2[:,0])) / np.std(X2[:,0])\n",
    "X2[:,1] = (X2[:,1] - np.mean(X2[:,1])) / np.std(X2[:,1])"
   ]
  },
  {
   "cell_type": "code",
   "execution_count": 42,
   "metadata": {},
   "outputs": [
    {
     "data": {
      "image/png": "[encoded data removed]",
      "text/plain": [
       "<matplotlib.figure.Figure at 0x1d90d5cd4a8>"
      ]
     },
     "metadata": {},
     "output_type": "display_data"
    }
   ],
   "source": [
    "plt.scatter(X2[:,0], X2[:,1])\n",
    "plt.show()"
   ]
  },
  {
   "cell_type": "code",
   "execution_count": 43,
   "metadata": {},
   "outputs": [
    {
     "data": {
      "text/plain": [
       "3.552713678800501e-17"
      ]
     },
     "execution_count": 43,
     "metadata": {},
     "output_type": "execute_result"
    }
   ],
   "source": [
    "np.mean(X2[:,0])"
   ]
  },
  {
   "cell_type": "code",
   "execution_count": 44,
   "metadata": {},
   "outputs": [
    {
     "data": {
      "text/plain": [
       "1.0"
      ]
     },
     "execution_count": 44,
     "metadata": {},
     "output_type": "execute_result"
    }
   ],
   "source": [
    "np.std(X2[:,0])"
   ]
  },
  {
   "cell_type": "code",
   "execution_count": 45,
   "metadata": {},
   "outputs": [
    {
     "data": {
      "text/plain": [
       "1.7763568394002505e-17"
      ]
     },
     "execution_count": 45,
     "metadata": {},
     "output_type": "execute_result"
    }
   ],
   "source": [
    "np.mean(X2[:,1])"
   ]
  },
  {
   "cell_type": "code",
   "execution_count": 46,
   "metadata": {},
   "outputs": [
    {
     "data": {
      "text/plain": [
       "0.9999999999999999"
      ]
     },
     "execution_count": 46,
     "metadata": {},
     "output_type": "execute_result"
    }
   ],
   "source": [
    "np.std(X2[:,1])"
   ]
  }
 ],
 "metadata": {
  "kernelspec": {
   "display_name": "Python 3",
   "language": "python",
   "name": "python3"
  },
  "language_info": {
   "codemirror_mode": {
    "name": "ipython",
    "version": 3.0
   },
   "file_extension": ".py",
   "mimetype": "text/x-python",
   "name": "python",
   "nbconvert_exporter": "python",
   "pygments_lexer": "ipython3",
   "version": "3.6.4"
  }
 },
 "nbformat": 4,
 "nbformat_minor": 0
}